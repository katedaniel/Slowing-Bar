{
 "cells": [
  {
   "cell_type": "code",
   "execution_count": 1,
   "metadata": {},
   "outputs": [],
   "source": [
    "%run Imports.ipynb\n",
    "%run SimParams.ipynb\n",
    "%run DiskModel.ipynb\n",
    "%run DehnenBarModel_Omega.ipynb\n",
    "%run TimescaleCalculator.ipynb"
   ]
  },
  {
   "cell_type": "code",
   "execution_count": 2,
   "metadata": {},
   "outputs": [
    {
     "name": "stdout",
     "output_type": "stream",
     "text": [
      "Check that in SlowingBarModel all values are in natural units.\n",
      "\u001b[1;34mStart time is:  2022-06-04 11:11:42.490279\n",
      "\n",
      "\n",
      "\u001b[1;34mSetting up for integration 22 of 23. Iteration #21\n",
      "   at time is:  2022-06-04 11:11:42.491137\n",
      "\n",
      "\n",
      "\u001b[0;30m   Setting up orbits\n",
      "   Time lapsed to set up orbits =  0:00:00.002588\n",
      "\n",
      "\n",
      "   Integrating 10000 orbits\n",
      "   Time lapsed to intigrate orbits =  1:17:20.674002\n",
      "\n",
      "\n",
      "   Saving orbits using cylindrical coordinates\n",
      "   Shape of final orbits array is (6, 10000, 2)\n",
      "   There are 6 coordinates [R,phi,z,vR,vphi,vz]\n",
      "   There are 10000 orbits\n",
      "   There are 2 timestep outputs for each\n",
      "   Time lapsed to save orbits =  0:00:02.250459\n",
      "\n",
      "\n",
      "   Saving orbits using cartesian coordinates\n",
      "   Shape of final orbits array is (6, 10000, 2)\n",
      "   There are 6 coordinates [x,y,z,vx,vy,vz]\n",
      "   There are 10000 orbits\n",
      "   There are 2 timestep outputs for each\n",
      "   Time lapsed to save orbits =  0:00:02.274235\n",
      "\n",
      "\n",
      "   Saving final actions\n",
      "   Shape of final actions array is (6, 10000)\n",
      "   There are 6 coordinates [jR_f,jphi_f,jz_f,jR_o,jphi_o,jz_o]\n",
      "   There are 10000 orbits\n",
      "   Time lapsed to save actions =  0:00:31.631098\n",
      "\n",
      "\n",
      "   Making README file and preparing for next iteration\n",
      "\n",
      "\n",
      "   Total time lapsed to integrate and save =  1:17:54.623439\n",
      "\u001b[1;34mSetting up for integration 23 of 23. Iteration #22\n",
      "   at time is:  2022-06-04 12:29:37.114627\n",
      "\n",
      "\n",
      "\u001b[0;30m   Setting up orbits\n",
      "   Time lapsed to set up orbits =  0:00:00.002092\n",
      "\n",
      "\n",
      "   Integrating 10000 orbits\n",
      "   Time lapsed to intigrate orbits =  2:54:12.528143\n",
      "\n",
      "\n",
      "   Saving orbits using cylindrical coordinates\n",
      "   Shape of final orbits array is (6, 10000, 2)\n",
      "   There are 6 coordinates [R,phi,z,vR,vphi,vz]\n",
      "   There are 10000 orbits\n",
      "   There are 2 timestep outputs for each\n",
      "   Time lapsed to save orbits =  0:00:05.994640\n",
      "\n",
      "\n",
      "   Saving orbits using cartesian coordinates\n",
      "   Shape of final orbits array is (6, 10000, 2)\n",
      "   There are 6 coordinates [x,y,z,vx,vy,vz]\n",
      "   There are 10000 orbits\n",
      "   There are 2 timestep outputs for each\n",
      "   Time lapsed to save orbits =  0:00:06.028337\n",
      "\n",
      "\n",
      "   Saving final actions\n",
      "   Shape of final actions array is (6, 10000)\n",
      "   There are 6 coordinates [jR_f,jphi_f,jz_f,jR_o,jphi_o,jz_o]\n",
      "   There are 10000 orbits\n",
      "   Time lapsed to save actions =  0:00:32.796440\n",
      "\n",
      "\n",
      "   Making README file and preparing for next iteration\n",
      "\n",
      "\n",
      "   Total time lapsed to integrate and save =  2:54:51.471712\n",
      "   TOTAL total time lapsed =  4:12:46.096479\n"
     ]
    }
   ],
   "source": [
    "%run BarModelOmegat.ipynb\n",
    "%run ReadInitialConditions.ipynb\n",
    "%run IntegrateOrbits.ipynb"
   ]
  },
  {
   "cell_type": "code",
   "execution_count": null,
   "metadata": {},
   "outputs": [],
   "source": []
  }
 ],
 "metadata": {
  "kernelspec": {
   "display_name": "Python 3",
   "language": "python",
   "name": "python3"
  },
  "language_info": {
   "codemirror_mode": {
    "name": "ipython",
    "version": 3
   },
   "file_extension": ".py",
   "mimetype": "text/x-python",
   "name": "python",
   "nbconvert_exporter": "python",
   "pygments_lexer": "ipython3",
   "version": "3.8.1"
  }
 },
 "nbformat": 4,
 "nbformat_minor": 4
}
