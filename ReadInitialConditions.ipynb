{
 "cells": [
  {
   "cell_type": "code",
   "execution_count": null,
   "metadata": {},
   "outputs": [],
   "source": [
    "#####################################\n",
    "#### USE THIS TO CALL PROCESSED ORBITS ####\n",
    "#####################################\n",
    "\n",
    "def orbitsetup(nbatch,nsample,iteration):\n",
    "    Norbits = nsample*nbatch\n",
    "    if iteration == 0:\n",
    "        inname = '../orbits/'+startsimname+'/'+str(Norbits)+'N_qiDF_'+dpType+'p_'+AAType+'_orbits_cyl_'+str(startsimname)+'_'+str(startbatch)+'.npy'\n",
    "    else:\n",
    "        inname = './orbits/'+simname+'/'+str(Norbits)+'N_qiDF_'+dpType+'p_'+AAType+'_orbits_cyl_'+str(simname)+'_'+str(iteration-1)+'.npy'\n",
    "    ICfile = np.load(inname)\n",
    "    ICs = np.transpose(np.array([ICfile[0,:,-1],ICfile[3,:,-1],ICfile[4,:,-1],ICfile[2,:,-1],ICfile[5,:,-1],ICfile[1,:,-1]]))\n",
    "    o = Orbit(ICs)\n",
    "    return o"
   ]
  }
 ],
 "metadata": {
  "kernelspec": {
   "display_name": "Python 3",
   "language": "python",
   "name": "python3"
  },
  "language_info": {
   "codemirror_mode": {
    "name": "ipython",
    "version": 3
   },
   "file_extension": ".py",
   "mimetype": "text/x-python",
   "name": "python",
   "nbconvert_exporter": "python",
   "pygments_lexer": "ipython3",
   "version": "3.8.1"
  }
 },
 "nbformat": 4,
 "nbformat_minor": 4
}
