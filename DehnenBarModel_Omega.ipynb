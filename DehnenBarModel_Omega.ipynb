{
 "cells": [
  {
   "cell_type": "code",
   "execution_count": null,
   "metadata": {},
   "outputs": [],
   "source": [
    "### Set up the bar potential that will be slowed\n",
    "\n",
    "# Set up the bar potential\n",
    "rbo = 0.625 # Bar length is in natural units (set to 5 kpc - Li+2016 at 6.7 kpc for same vo)\n",
    "Ab = 1. # Bar strength (defaults to Ab=1)\n",
    "pa = 0. # The position angle of the x axis (radians)\n",
    "\n",
    "bp_still = DehnenBarPotential(amp=Ab,omegab=None,rb=rbo, barphi=pa, Af=Ab, tform=0,tsteady=0) \n",
    "\n",
    "# Initialize slowing bar parameters \n",
    "# Use ICs from time bar completely formed (set to be at 'to')\n",
    "to=0. # Start time for simulation of a slowing bar [natural units]\n",
    "TSlowPhys = 6.0 *u.Gyr # Total time for slowing bar [physical units]\n",
    "CRi = 0.8*rbo  # Corotation radius [0.8xrbo=4kpc, 1.2xrbo=6kpc, 1.6xrbo=8kpc]\n",
    "CRf = 1.9*rbo  # Corotation radius [0.8xrbo=4kpc, 1.2xrbo=6kpc, 1.6xrbo=8kpc]\n",
    "omegaBi = vcirc(mwp,CRi)/CRi # Pattern speed based on CR\n",
    "omegaBf = vcirc(mwp,CRf)/CRf # Pattern speed based on CR"
   ]
  },
  {
   "cell_type": "code",
   "execution_count": null,
   "metadata": {},
   "outputs": [],
   "source": [
    "rm = open(rmfile,'a')\n",
    "\n",
    "rm.write('### Set up the growing bar potential\\n')\n",
    "rm.write('# The bar potential was grown in GrowDenhenBar_CR4 simulation\\n')\n",
    "rm.write('# It completely formed over two bar periods and let equelibrate for 28 more. \\n')\n",
    "rm.write('\\n')\n",
    "\n",
    "rm.write('# Set up the bar potential\\n')\n",
    "rm.write('rbo = '+str(rbo)+' # Bar length is in natural units\\n')\n",
    "rm.write('CRi = '+str(CRi)+'  # Initial corotation radius\\n')\n",
    "rm.write('omegaBi = vc(CRi)/CRi = '+str(omegaBi)+' # Pattern speed based on CR\\n')\n",
    "rm.write('Ab = '+str(Ab)+' # Bar strength (defaults to Ab=1)\\n')\n",
    "rm.write('pa = '+str(pa)+' # Initial angle phi of the bar cc from x=0')\n",
    "rm.write('\\n')\n",
    "\n",
    "rm.write('bp_still = SoftenedNeedleBarPotential(amp=Ab,a=ao,b=bo,c=co,omegab=omegaBi)\\n')\n",
    "rm.write('\\n')\n",
    "\n",
    "rm.close()"
   ]
  }
 ],
 "metadata": {
  "kernelspec": {
   "display_name": "Python 3",
   "language": "python",
   "name": "python3"
  },
  "language_info": {
   "codemirror_mode": {
    "name": "ipython",
    "version": 3
   },
   "file_extension": ".py",
   "mimetype": "text/x-python",
   "name": "python",
   "nbconvert_exporter": "python",
   "pygments_lexer": "ipython3",
   "version": "3.8.1"
  }
 },
 "nbformat": 4,
 "nbformat_minor": 4
}
