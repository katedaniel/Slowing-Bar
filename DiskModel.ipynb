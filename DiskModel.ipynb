{
 "cells": [
  {
   "cell_type": "code",
   "execution_count": null,
   "metadata": {},
   "outputs": [],
   "source": [
    "### Important scale factors\n",
    "\n",
    "# Scales to be use for conversion from natural coordinates\n",
    "ro = 8. # (kpc) scale radii\n",
    "vo = 220. #(km/s) scale velocity at ro\n",
    "\n",
    "# Set model parameters for potentials and DF:\n",
    "hro  = 1./3.   # Scale length for surface density\n",
    "sro  = 0.16    # Radial velocity dispersion at ro in natural coordinates (times vo to get in physical at ro)\n",
    "szo  = sro/2   # Vertical velocity dispersion at ro in natural coordinates (times vo to get in physical at ro)\n",
    "hsro = 3./4.     # Radial scale length for radial velocity dispersion profile\n",
    "hszo = hsro    # Radial scale length for vertical velocity dispersion profile\n",
    "AAType = 'stklAA' # Action Angle approx for ICs\n",
    "\n",
    "### Set up underlying initial axi-symmetric potential for the disk\n",
    "\n",
    "dpType = 'MW14'\n",
    "mwp = MWPotential2014"
   ]
  },
  {
   "cell_type": "code",
   "execution_count": null,
   "metadata": {},
   "outputs": [],
   "source": [
    "# Setup simulation README\n",
    "rmfile = './orbits/'+str(nsample*nbatch)+'N_qiDF_'+dpType+'p_'+AAType+'_'+str(simname)+'_README.txt'\n",
    "\n",
    "rm = open(rmfile,'w+')\n",
    "\n",
    "rm.write('Created: '+str(datetime.utcnow())+'\\n')\n",
    "rm.write('galpy v1.7\\n')    \n",
    "rm.write('\\n')\n",
    "\n",
    "rm.write('### Set parameters for orbital initial conditions\\n')\n",
    "rm.write('nsample='+str(nsample)+'# number of samples per batch\\n')\n",
    "rm.write('nbatch='+str(nbatch)+'# number of batches \\n')\n",
    "rm.write('norbit='+str(nbatch*nsample)+'# number of orbits\\n')\n",
    "rm.write('rmin='+str(rmin)+' # sets scaled rmin \\n')\n",
    "rm.write('rmax='+str(rmax)+'      # sets sclaed rmax \\n')\n",
    "rm.write('zmax='+str(zmax)+'    # sets scales zmax \\n')\n",
    "rm.write('\\n')\n",
    "    \n",
    "rm.close()"
   ]
  },
  {
   "cell_type": "code",
   "execution_count": null,
   "metadata": {},
   "outputs": [],
   "source": [
    "rm = open(rmfile,'a')\n",
    "\n",
    "rm.write('### Scales used for conversion from natural coordinates\\n')\n",
    "rm.write('ro = '+str(ro)+' # (kpc) scale radii\\n')\n",
    "rm.write('vo = '+str(vo)+' #(km/s) scale velocity at ro\\n')\n",
    "rm.write('\\n')\n",
    "\n",
    "rm.write('# Model parameters for potentials and DF:\\n')\n",
    "rm.write('dpType = '+dpType+'# Initial axi-symmetric potential for the disk\\n')\n",
    "rm.write('AAType = '+AAType+' # Action Angle approx for ICs\\n')\n",
    "rm.write('\\n')\n",
    "\n",
    "rm.write('hro  = '+str(hro)+'   # Scale length for surface density\\n')\n",
    "rm.write('sro  = '+str(sro)+'    # Radial velocity dispersion at ro in natural coordinates (times vo to get in physical at ro)\\n')\n",
    "rm.write('szo  = '+str(szo)+'   # Vertical velocity dispersion at ro in natural coordinates (times vo to get in physical at ro)\\n')\n",
    "rm.write('hsro = '+str(hsro)+'     # Radial scale length for radial velocity dispersion profile\\n')\n",
    "rm.write('hszo = '+str(hszo)+'    # Radial scale length for vertical velocity dispersion profile\\n')\n",
    "rm.write('\\n')\n",
    "\n",
    "rm.close()"
   ]
  }
 ],
 "metadata": {
  "kernelspec": {
   "display_name": "Python 3",
   "language": "python",
   "name": "python3"
  },
  "language_info": {
   "codemirror_mode": {
    "name": "ipython",
    "version": 3
   },
   "file_extension": ".py",
   "mimetype": "text/x-python",
   "name": "python",
   "nbconvert_exporter": "python",
   "pygments_lexer": "ipython3",
   "version": "3.8.1"
  }
 },
 "nbformat": 4,
 "nbformat_minor": 4
}
