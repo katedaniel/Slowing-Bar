{
 "cells": [
  {
   "cell_type": "code",
   "execution_count": null,
   "metadata": {},
   "outputs": [],
   "source": [
    "import numpy as np\n",
    "\n",
    "import scipy as sc\n",
    "from scipy.signal import argrelextrema\n",
    "\n",
    "import astropy\n",
    "from astropy import units as u\n",
    "\n",
    "from datetime import datetime\n",
    "\n",
    "import galpy\n",
    "import galpy.df\n",
    "from galpy.orbit import Orbit\n",
    "from galpy.potential import MWPotential2014, vcirc, lindbladR, evaluatePotentials\n",
    "from galpy.potential import SoftenedNeedleBarPotential, DehnenBarPotential, DehnenSmoothWrapperPotential#, TSolidBodyRotationWrapperPotential\n",
    "from galpy.actionAngle import actionAngleAdiabatic, actionAngleStaeckel\n",
    "# from galpy.util import conversion\n",
    "# from galpy.util import bovy_conversion\n",
    "\n",
    "from matplotlib.pyplot import *\n",
    "from matplotlib import pyplot as pl\n",
    "pl.rc('text', usetex=False)\n",
    "pl.rc('font', **{'family':'serif','size':20})\n",
    "pl.rc('axes', labelsize=16)\n",
    "pl.rc('xtick',labelsize=16)\n",
    "pl.rc('ytick',labelsize=16)\n",
    "from matplotlib import colors as mc\n",
    "from matplotlib import cm\n",
    "from matplotlib.colors import LogNorm\n",
    "%matplotlib inline\n",
    "\n",
    "%run TSolidBodyRotationWrapperPotential.ipynb"
   ]
  }
 ],
 "metadata": {
  "kernelspec": {
   "display_name": "Python 3",
   "language": "python",
   "name": "python3"
  },
  "language_info": {
   "codemirror_mode": {
    "name": "ipython",
    "version": 3
   },
   "file_extension": ".py",
   "mimetype": "text/x-python",
   "name": "python",
   "nbconvert_exporter": "python",
   "pygments_lexer": "ipython3",
   "version": "3.8.1"
  }
 },
 "nbformat": 4,
 "nbformat_minor": 4
}
